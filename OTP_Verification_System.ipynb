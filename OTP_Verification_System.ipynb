{
  "nbformat": 4,
  "nbformat_minor": 0,
  "metadata": {
    "colab": {
      "provenance": []
    },
    "kernelspec": {
      "name": "python3",
      "display_name": "Python 3"
    },
    "language_info": {
      "name": "python"
    }
  },
  "cells": [
    {
      "cell_type": "markdown",
      "source": [
        "**Python-Capstone Project **\n",
        "Aman Ashish\n",
        "S6853"
      ],
      "metadata": {
        "id": "43vqHwtatCgp"
      }
    },
    {
      "cell_type": "markdown",
      "source": [
        "**Project Title: OTP Verification System**"
      ],
      "metadata": {
        "id": "YGgmPU_uTclG"
      }
    },
    {
      "cell_type": "code",
      "source": [
        "import random\n",
        "import smtplib\n",
        "import time\n",
        "\n",
        "# Generate a 6-digit OTP randomly\n",
        "def generate_otp():\n",
        "    return random.randint(100000, 999999)\n",
        "\n",
        "# Simulate sending the OTP to the user's email address\n",
        "def send_otp(email, otp):\n",
        "    # You need to provide your email credentials here\n",
        "    sender_email = \"amanashish6171@gmail.com\"\n",
        "    sender_password = \"vlhxkzbxjuqucihb\"\n",
        "\n",
        "    subject = \"OTP Verification\"\n",
        "    body = f\"Your OTP for verification is: {otp}\"\n",
        "\n",
        "    try:\n",
        "        server = smtplib.SMTP('smtp.gmail.com', 587)\n",
        "        server.starttls()\n",
        "        server.login(sender_email, sender_password)\n",
        "        server.sendmail(sender_email, email, f\"Subject: {subject}\\n\\n{body}\")\n",
        "        print(\"OTP sent successfully to your email.\")\n",
        "        server.quit()\n",
        "    except Exception as e:\n",
        "        print(\"Failed to send OTP. Please check your email configuration.\")\n",
        "        print(e)\n",
        "\n",
        "# Prompt the user to enter the OTP received in their email\n",
        "def enter_otp():\n",
        "    return input(\"Enter the OTP received in your email: \")\n",
        "\n",
        "# Verify if the entered OTP matches the generated OTP\n",
        "def verify_otp(otp, entered_otp):\n",
        "    return str(otp) == entered_otp\n",
        "\n",
        "# Main function to orchestrate the OTP verification process\n",
        "def main():\n",
        "    email = input(\"Enter your email address: \")\n",
        "\n",
        "    # Generate and send OTP\n",
        "    otp = generate_otp()\n",
        "    send_otp(email, otp)\n",
        "\n",
        "    # Allow the user to enter OTP\n",
        "    max_attempts = 3\n",
        "    attempts = 0\n",
        "    while attempts < max_attempts:\n",
        "        entered_otp = enter_otp()\n",
        "        if verify_otp(otp, entered_otp):\n",
        "            print(\"OTP verification successful. Access granted!\")\n",
        "            break\n",
        "        else:\n",
        "            print(\"Incorrect OTP. Please try again.\")\n",
        "            attempts += 1\n",
        "            if attempts < max_attempts:\n",
        "                print(f\"You have {max_attempts - attempts} attempts remaining.\")\n",
        "                time.sleep(1)  # Adding a small delay before retrying\n",
        "    else:\n",
        "        print(\"Maximum attempts reached. Access denied.\")\n",
        "\n",
        "if __name__ == \"__main__\":\n",
        "    main()\n"
      ],
      "metadata": {
        "id": "sJjYt3S7tC5J",
        "colab": {
          "base_uri": "https://localhost:8080/"
        },
        "outputId": "d74fc8e6-5e4c-4b73-8d59-e23a1466063d"
      },
      "execution_count": null,
      "outputs": [
        {
          "output_type": "stream",
          "name": "stdout",
          "text": [
            "Enter your email address: ashishraj7400@gmail.com\n",
            "OTP sent successfully to your email.\n",
            "Enter the OTP received in your email: 412828\n",
            "Incorrect OTP. Please try again.\n",
            "You have 2 attempts remaining.\n",
            "Enter the OTP received in your email: 412816\n",
            "OTP verification successful. Access granted!\n"
          ]
        }
      ]
    },
    {
      "cell_type": "markdown",
      "source": [
        "**Describe the code line by line **"
      ],
      "metadata": {
        "id": "E3A4e3-Ptdhh"
      }
    },
    {
      "cell_type": "markdown",
      "source": [
        "import random,\n",
        "import smtplib,\n",
        "import time\n",
        "\n",
        "--Library\n",
        "1. Random:- For generating random numbers.\n",
        "2. smtplib:- Simple Mail Transfer Protocol (SMTP) client session object which is used to send emails to any valid Email ID on the internet.\n",
        "3. time:- For adding delays."
      ],
      "metadata": {
        "id": "a0pVXMekuFCo"
      }
    },
    {
      "cell_type": "markdown",
      "source": [
        "def generate_otp():\n",
        "\n",
        "    return random.randint(100000, 999999)\n",
        "\n",
        "-- Using the random.randint() function, the function generate_otp() creates a 6-digit OTP (One-Time Password) at random."
      ],
      "metadata": {
        "id": "OiZjaVM-vIhD"
      }
    },
    {
      "cell_type": "markdown",
      "source": [
        "def send_otp(email, otp):\n",
        "   \n",
        "    sender_email = \"your_email@gmail.com\"\n",
        "    sender_password = \"your_password\"\n",
        "\n",
        "\n",
        "\n",
        "--This function send_otp() is used to simulate sending the OTP to the user's email address. You need to provide your email credentials (sender email and password) in place of \"your_email@gmail.com\" and \"your_password\".\n",
        "Here I use My Email And App Password because In project deatil clearly mentioned  Ensure that you handle sensitive information (such as email addresses and OTPs) securely and responsibly, and avoid hardcoding any sensitive data or credentials in your code.\n",
        "\n"
      ],
      "metadata": {
        "id": "8yMUS14kv9t8"
      }
    },
    {
      "cell_type": "markdown",
      "source": [
        "    subject = \"OTP Verification\"\n",
        "    body = f\"Your OTP for verification is: {otp}\"\n",
        "\n",
        "-- It sets up the subject and body of the email which contains the OTP"
      ],
      "metadata": {
        "id": "XSVLrd7mxRW-"
      }
    },
    {
      "cell_type": "markdown",
      "source": [
        " try:\n",
        "\n",
        "        server = smtplib.SMTP('smtp.gmail.com', 587)\n",
        "        server.starttls()\n",
        "        server.login(sender_email, sender_password)\n",
        "        server.sendmail(sender_email, email, f\"Subject: {subject}\\n\\n{body}\")\n",
        "        print(\"OTP sent successfully to your email.\")\n",
        "        server.quit()\n",
        "    except Exception as e:\n",
        "        print(\"Failed to send OTP. Please check your email configuration.\")\n",
        "        print(e)\n",
        "\n",
        "\n",
        "--The email containing the OTP is attempted to be sent by this block of code. After establishing a connection with the Gmail SMTP server, it launches TLS encryption, logs in with the supplied email address and password, sends the email, and then exits the session. It captures the exception and publishes an error message if there is a problem during this process."
      ],
      "metadata": {
        "id": "-PbZqhIsxg3t"
      }
    },
    {
      "cell_type": "markdown",
      "source": [
        "def enter_otp():\n",
        "\n",
        "    return input(\"Enter the OTP received in your email: \")\n",
        "\n",
        "\n",
        "--This function enter_otp() prompts the user to enter the OTP received in their email."
      ],
      "metadata": {
        "id": "affDhYMQyPxs"
      }
    },
    {
      "cell_type": "markdown",
      "source": [
        "def verify_otp(otp, entered_otp):\n",
        "\n",
        "    return otp == entered_otp\n",
        "\n",
        "--This function verify_otp() compares the entered OTP with the generated OTP and returns True if they match, indicating successful verification."
      ],
      "metadata": {
        "id": "AFWaxiaEzdJs"
      }
    },
    {
      "cell_type": "markdown",
      "source": [
        "def main():\n",
        "\n",
        "    email = input(\"Enter your email address: \")\n",
        "\n",
        "--The main() function is the entry point of the program. It prompts the user to enter their email address.\n"
      ],
      "metadata": {
        "id": "LRIfElaozmJ3"
      }
    },
    {
      "cell_type": "markdown",
      "source": [
        "    otp = generate_otp()\n",
        "    send_otp(email, otp)\n",
        "\n",
        "--It generates an OTP and sends it to the entered email address"
      ],
      "metadata": {
        "id": "MbJwXDiJzu4s"
      }
    },
    {
      "cell_type": "markdown",
      "source": [
        "    max_attempts = 3\n",
        "    attempts = 0\n",
        "\n",
        "--It sets the maximum number of OTP entry attempts to 3 and initializes the attempts counter."
      ],
      "metadata": {
        "id": "344xnVV41d9R"
      }
    },
    {
      "cell_type": "markdown",
      "source": [
        "    while attempts < max_attempts:\n",
        "        entered_otp = enter_otp()\n",
        "--It starts a While loop to allow the user to enter the OTP within the specified maximum attempts"
      ],
      "metadata": {
        "id": "AFK0PXXd1sld"
      }
    },
    {
      "cell_type": "markdown",
      "source": [
        "if verify_otp(otp, entered_otp):\n",
        "\n",
        "            print(\"OTP verification successful. Access granted!\")\n",
        "            break\n",
        "\n",
        "        else:\n",
        "            print(\"Incorrect OTP. Please try again.\")\n",
        "            attempts += 1\n",
        "\n",
        "--If the entered OTP matches the generated OTP, it prints a success message and breaks out of the loop.\n",
        "--If the entered OTP is incorrect, it prompts the user to try again and increments the attempts counter"
      ],
      "metadata": {
        "id": "idkQ1z7d10xJ"
      }
    },
    {
      "cell_type": "markdown",
      "source": [
        "if attempts < max_attempts:\n",
        "\n",
        "                print(f\"You have {max_attempts - attempts} attempts remaining.\")\n",
        "                time.sleep(1)\n",
        "\n",
        "    else:\n",
        "        print(\"Maximum attempts reached. Access denied.\")\n",
        "\n",
        "\n",
        "--It prints the number of attempts remaining and adds a small delay before allowing the user to retry, to prevent rapid successive attempts\n",
        "\n",
        "--If the maximum number of attempts is reached without successful verification, it prints a message indicating access denial."
      ],
      "metadata": {
        "id": "bUXA_58a2L75"
      }
    },
    {
      "cell_type": "markdown",
      "source": [
        "if __name__ == \"__main__\":\n",
        "    main()\n",
        "\n",
        "--This conditional statement checks if the script is being run directly, and if so, it calls the main() function to start the OTP verification process."
      ],
      "metadata": {
        "id": "ruAEc4YY2s2a"
      }
    },
    {
      "cell_type": "markdown",
      "source": [
        "# ------------- THE END -----------------"
      ],
      "metadata": {
        "id": "Uum4wIpXPXgD"
      }
    }
  ]
}